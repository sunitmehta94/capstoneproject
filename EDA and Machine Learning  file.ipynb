{
 "cells": [
  {
   "cell_type": "code",
   "execution_count": null,
   "id": "0319734a",
   "metadata": {},
   "outputs": [],
   "source": [
    "#eda"
   ]
  },
  {
   "cell_type": "code",
   "execution_count": null,
   "id": "03065bfd",
   "metadata": {},
   "outputs": [],
   "source": [
    "import pandas as pd\n",
    "\n",
    "# Read the CSV files into separate DataFrames\n",
    "table1 = pd.read_csv('Table1.csv')\n",
    "table2 = pd.read_csv('Table2.csv')\n",
    "table3 = pd.read_csv('Table3.csv')\n",
    "\n",
    "# Merge DataFrames using appropriate columns\n",
    "merged_df = pd.merge(table1, table2, left_on='Style code/Product code', right_on='Style code/Product code', how='inner')\n",
    "merged_df = pd.merge(merged_df, table3, left_on='Product', right_on='Product', how='inner')\n",
    "\n",
    "# Display the merged DataFrame\n",
    "print(merged_df.head())"
   ]
  },
  {
   "cell_type": "code",
   "execution_count": null,
   "id": "892d5946",
   "metadata": {},
   "outputs": [],
   "source": [
    "# Basic information about the merged DataFrame\n",
    "print(merged_df.info())\n",
    "\n",
    "# Summary statistics\n",
    "print(merged_df.describe())\n",
    "\n",
    "# Check for missing values\n",
    "print(merged_df.isnull().sum())\n",
    "\n",
    "# Unique values in specific columns\n",
    "print(merged_df['Category'].unique())\n",
    "print(merged_df['Size'].unique())\n",
    "\n",
    "# Visualizations (using matplotlib or seaborn)\n",
    "import matplotlib.pyplot as plt\n",
    "import seaborn as sns\n",
    "\n",
    "# Example: Histogram of Price\n",
    "plt.figure(figsize=(8, 6))\n",
    "sns.histplot(merged_df['Price'], bins=20, kde=True)\n",
    "plt.title('Distribution of Prices')\n",
    "plt.xlabel('Price')\n",
    "plt.ylabel('Frequency')\n",
    "plt.show()\n",
    "\n",
    "# Example: Boxplot of Star Ratings by Category\n",
    "plt.figure(figsize=(8, 6))\n",
    "sns.boxplot(x='Category', y='Star Rating', data=merged_df)\n",
    "plt.title('Star Ratings by Category')\n",
    "plt.xlabel('Category')\n",
    "plt.ylabel('Star Rating')\n",
    "plt.show()"
   ]
  },
  {
   "cell_type": "code",
   "execution_count": null,
   "id": "3c2372dd",
   "metadata": {},
   "outputs": [],
   "source": [
    "#Step 1: Initial Data Examination\n",
    "Basic Information & Structure\n",
    "Check DataFrame structure, column names, and data types.\n",
    "Verify if columns have the expected data."
   ]
  },
  {
   "cell_type": "code",
   "execution_count": null,
   "id": "503bec1a",
   "metadata": {},
   "outputs": [],
   "source": [
    "# Display basic information about the merged DataFrame\n",
    "print(merged_df.info())\n",
    "\n",
    "# Display the first few rows to get an initial understanding\n",
    "print(merged_df.head())"
   ]
  },
  {
   "cell_type": "code",
   "execution_count": null,
   "id": "b701105f",
   "metadata": {},
   "outputs": [],
   "source": [
    "#Step 2: Summary Statistics\n",
    "Descriptive Statistics\n",
    "Compute basic statistics to understand the central tendency, dispersion, and shape of the data."
   ]
  },
  {
   "cell_type": "code",
   "execution_count": null,
   "id": "9f8e5e46",
   "metadata": {},
   "outputs": [],
   "source": [
    "# Summary statistics\n",
    "print(merged_df.describe())"
   ]
  },
  {
   "cell_type": "code",
   "execution_count": null,
   "id": "b6a1abc3",
   "metadata": {},
   "outputs": [],
   "source": [
    "#Step 3: Handling Missing Values\n",
    "Missing Values Investigation\n",
    "Check for missing values and decide how to handle them (impute or drop)."
   ]
  },
  {
   "cell_type": "code",
   "execution_count": null,
   "id": "177dfcde",
   "metadata": {},
   "outputs": [],
   "source": [
    "# Check for missing values\n",
    "print(merged_df.isnull().sum())"
   ]
  },
  {
   "cell_type": "code",
   "execution_count": null,
   "id": "0e520461",
   "metadata": {},
   "outputs": [],
   "source": [
    "#Step 4: Exploring Categorical Variables\n",
    "Categorical Variables Analysis\n",
    "Explore unique values and their frequencies in categorical columns.\n",
    "Visualize categorical distributions."
   ]
  },
  {
   "cell_type": "code",
   "execution_count": null,
   "id": "f533b05e",
   "metadata": {},
   "outputs": [],
   "source": [
    "# Unique values in specific columns\n",
    "print(merged_df['Category'].value_counts())\n",
    "\n",
    "# Example: Visualizing Category distribution\n",
    "plt.figure(figsize=(8, 6))\n",
    "sns.countplot(x='Category', data=merged_df)\n",
    "plt.title('Distribution of Categories')\n",
    "plt.xlabel('Category')\n",
    "plt.ylabel('Count')\n",
    "plt.show()"
   ]
  },
  {
   "cell_type": "code",
   "execution_count": null,
   "id": "f9ea77e8",
   "metadata": {},
   "outputs": [],
   "source": [
    "#Step 5: Analyzing Numerical Variables\n",
    "Numerical Variables Analysis\n",
    "Examine distributions and relationships of numerical variables.\n",
    "Visualize distributions, correlations, or trends."
   ]
  },
  {
   "cell_type": "code",
   "execution_count": null,
   "id": "7b4721cc",
   "metadata": {},
   "outputs": [],
   "source": [
    "# Example: Histogram of Price\n",
    "plt.figure(figsize=(8, 6))\n",
    "sns.histplot(merged_df['Price'], bins=20, kde=True)\n",
    "plt.title('Distribution of Prices')\n",
    "plt.xlabel('Price')\n",
    "plt.ylabel('Frequency')\n",
    "plt.show()\n",
    "\n",
    "# Example: Scatterplot of Price vs. Star Rating\n",
    "plt.figure(figsize=(8, 6))\n",
    "sns.scatterplot(x='Price', y='Star Rating', data=merged_df)\n",
    "plt.title('Price vs. Star Rating')\n",
    "plt.xlabel('Price')\n",
    "plt.ylabel('Star Rating')\n",
    "plt.show()"
   ]
  },
  {
   "cell_type": "code",
   "execution_count": null,
   "id": "f1bff4da",
   "metadata": {},
   "outputs": [],
   "source": [
    "#Step 6: Relationships and Correlations\n",
    "Correlation Analysis\n",
    "Explore relationships between numerical variables.\n",
    "Calculate correlations and visualize them."
   ]
  },
  {
   "cell_type": "code",
   "execution_count": null,
   "id": "59bd2879",
   "metadata": {},
   "outputs": [],
   "source": [
    "# Correlation heatmap\n",
    "plt.figure(figsize=(10, 8))\n",
    "sns.heatmap(merged_df.corr(), annot=True, cmap='coolwarm', fmt='.2f')\n",
    "plt.title('Correlation Heatmap')\n",
    "plt.show()"
   ]
  },
  {
   "cell_type": "code",
   "execution_count": null,
   "id": "6b5c7324",
   "metadata": {},
   "outputs": [],
   "source": [
    "#Step 7: Advanced Analysis & Insights\n",
    "Further Analysis for Specific Insights\n",
    "Analyze specific relationships, patterns, or trends of interest.\n",
    "Derive insights based on domain-specific knowledge."
   ]
  },
  {
   "cell_type": "code",
   "execution_count": null,
   "id": "424a166f",
   "metadata": {},
   "outputs": [],
   "source": [
    "# Example: Boxplot of Star Ratings by Category\n",
    "plt.figure(figsize=(8, 6))\n",
    "sns.boxplot(x='Category', y='Star Rating', data=merged_df)\n",
    "plt.title('Star Ratings by Category')\n",
    "plt.xlabel('Category')\n",
    "plt.ylabel('Star Rating')\n",
    "plt.show()\n",
    "\n",
    "# Additional analysis based on domain-specific requirements\n",
    "# ...\n",
    "\n",
    "# Repeat similar analysis or visualizations for other variables of interest\n",
    "# ..."
   ]
  },
  {
   "cell_type": "code",
   "execution_count": null,
   "id": "28d3c8ac",
   "metadata": {},
   "outputs": [],
   "source": [
    "#Step 8: Conclusions & Observations\n",
    "Observations and Conclusions\n",
    "Summarize key findings, trends, or anomalies discovered during EDA.\n",
    "Derive insights and potential actionable points from the data."
   ]
  },
  {
   "cell_type": "code",
   "execution_count": null,
   "id": "5bc20fbc",
   "metadata": {},
   "outputs": [],
   "source": [
    "#Step 9: Documentation\n",
    "Documentation & Reporting\n",
    "Document the EDA process, findings, visualizations, and conclusions in a report or notebook for future reference or sharing.\n",
    "This comprehensive EDA aims to unveil patterns, relationships, and anomalies within the data to derive actionable insights. The specific visualizations or analysis might vary based on the data and domain knowledge, but these steps provide a structured approach to understanding the dataset thoroughly."
   ]
  },
  {
   "cell_type": "code",
   "execution_count": null,
   "id": "ed18656b",
   "metadata": {},
   "outputs": [],
   "source": [
    "#phase 4 "
   ]
  },
  {
   "cell_type": "code",
   "execution_count": null,
   "id": "71cf8771",
   "metadata": {},
   "outputs": [],
   "source": [
    "import pandas as pd\n",
    "from sklearn.model_selection import train_test_split, GridSearchCV\n",
    "from sklearn.preprocessing import StandardScaler\n",
    "from sklearn.linear_model import Ridge  # Ridge Regression for regularization\n",
    "from sklearn.ensemble import RandomForestRegressor\n",
    "from sklearn.metrics import mean_squared_error, r2_score\n",
    "\n",
    "# Load the merged data\n",
    "merged_df = pd.read_csv('merged_data.csv')\n",
    "\n",
    "# Separate features and labels for price and star rating\n",
    "X_price = merged_df.drop(['Price', 'Star Rating'], axis=1)\n",
    "y_price = merged_df['Price']\n",
    "X_star = merged_df.drop(['Price', 'Star Rating'], axis=1)\n",
    "y_star = merged_df['Star Rating']\n",
    "\n",
    "# Split data into training and test sets for price and star rating\n",
    "X_train_price, X_test_price, y_train_price, y_test_price = train_test_split(X_price, y_price, test_size=0.2, random_state=42)\n",
    "X_train_star, X_test_star, y_train_star, y_test_star = train_test_split(X_star, y_star, test_size=0.2, random_state=42)\n",
    "\n",
    "# Feature scaling\n",
    "scaler_price = StandardScaler()\n",
    "X_train_price_scaled = scaler_price.fit_transform(X_train_price)\n",
    "X_test_price_scaled = scaler_price.transform(X_test_price)\n",
    "\n",
    "scaler_star = StandardScaler()\n",
    "X_train_star_scaled = scaler_star.fit_transform(X_train_star)\n",
    "X_test_star_scaled = scaler_star.transform(X_test_star)\n",
    "\n",
    "# Price Prediction - Ridge Regression with hyperparameter tuning\n",
    "param_grid_price = {'alpha': [0.1, 1, 10]}\n",
    "ridge_price = GridSearchCV(Ridge(), param_grid_price, cv=5)\n",
    "ridge_price.fit(X_train_price_scaled, y_train_price)\n",
    "best_alpha_price = ridge_price.best_params_['alpha']\n",
    "price_model = Ridge(alpha=best_alpha_price)\n",
    "price_model.fit(X_train_price_scaled, y_train_price)\n",
    "\n",
    "# Star Rating Prediction - Random Forest Regression with hyperparameter tuning\n",
    "param_grid_star = {'n_estimators': [100, 200, 300], 'max_depth': [5, 10, 15]}\n",
    "rf_star = GridSearchCV(RandomForestRegressor(random_state=42), param_grid_star, cv=5)\n",
    "rf_star.fit(X_train_star_scaled, y_train_star)\n",
    "best_n_estimators_star = rf_star.best_params_['n_estimators']\n",
    "best_max_depth_star = rf_star.best_params_['max_depth']\n",
    "star_model = RandomForestRegressor(n_estimators=best_n_estimators_star, max_depth=best_max_depth_star, random_state=42)\n",
    "star_model.fit(X_train_star_scaled, y_train_star)\n",
    "\n",
    "# Predictions\n",
    "price_pred = price_model.predict(X_test_price_scaled)\n",
    "star_pred = star_model.predict(X_test_star_scaled)\n",
    "\n",
    "# Evaluation\n",
    "price_rmse = mean_squared_error(y_test_price, price_pred, squared=False)\n",
    "price_r2 = r2_score(y_test_price, price_pred)\n",
    "star_rmse = mean_squared_error(y_test_star, star_pred, squared=False)\n",
    "star_r2 = r2_score(y_test_star, star_pred)\n",
    "\n",
    "print(f\"Price Prediction - RMSE: {price_rmse}, R² Score: {price_r2}\")\n",
    "print(f\"Star Rating Prediction - RMSE: {star_rmse}, R² Score: {star_r2}\")"
   ]
  },
  {
   "cell_type": "code",
   "execution_count": null,
   "id": "2ae5b3d0",
   "metadata": {},
   "outputs": [],
   "source": [
    "#saving best model"
   ]
  },
  {
   "cell_type": "code",
   "execution_count": null,
   "id": "80182839",
   "metadata": {},
   "outputs": [],
   "source": [
    "# ... (Previous code remains the same up to model training and evaluation)\n",
    "\n",
    "# Select the best model based on R² score\n",
    "best_model_price = price_model if price_r2 > 0 else None  # Check for positive R² score\n",
    "best_model_star = star_model if star_r2 > 0 else None  # Check for positive R² score\n",
    "\n",
    "# Save the best models using joblib or pickle\n",
    "from joblib import dump\n",
    "\n",
    "if best_model_price:\n",
    "    dump(best_model_price, 'best_model_price.joblib')\n",
    "    print(\"Best Price Prediction Model Saved\")\n",
    "else:\n",
    "    print(\"No valid Price Prediction Model to save\")\n",
    "\n",
    "if best_model_star:\n",
    "    dump(best_model_star, 'best_model_star.joblib')\n",
    "    print(\"Best Star Rating Prediction Model Saved\")\n",
    "else:\n",
    "    print(\"No valid Star Rating Prediction Model to save\")"
   ]
  }
 ],
 "metadata": {
  "kernelspec": {
   "display_name": "Python 3 (ipykernel)",
   "language": "python",
   "name": "python3"
  },
  "language_info": {
   "codemirror_mode": {
    "name": "ipython",
    "version": 3
   },
   "file_extension": ".py",
   "mimetype": "text/x-python",
   "name": "python",
   "nbconvert_exporter": "python",
   "pygments_lexer": "ipython3",
   "version": "3.9.13"
  }
 },
 "nbformat": 4,
 "nbformat_minor": 5
}
